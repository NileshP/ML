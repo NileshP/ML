{
 "cells": [
  {
   "cell_type": "code",
   "execution_count": 2,
   "metadata": {
    "collapsed": false
   },
   "outputs": [
    {
     "name": "stderr",
     "output_type": "stream",
     "text": [
      "C:\\ProgramData\\Anaconda2\\lib\\site-packages\\sklearn\\cross_validation.py:44: DeprecationWarning: This module was deprecated in version 0.18 in favor of the model_selection module into which all the refactored classes and functions are moved. Also note that the interface of the new CV iterators are different from that of this module. This module will be removed in 0.20.\n",
      "  \"This module will be removed in 0.20.\", DeprecationWarning)\n"
     ]
    }
   ],
   "source": [
    "import pandas as pd\n",
    "import numpy as np\n",
    "from sklearn.cross_validation import train_test_split\n",
    "from sklearn.linear_model import LogisticRegression\n",
    "from sklearn import metrics"
   ]
  },
  {
   "cell_type": "code",
   "execution_count": 3,
   "metadata": {
    "collapsed": false
   },
   "outputs": [],
   "source": [
    "def unique_observations(dataset, header, method=1):\n",
    "    \"\"\"\n",
    "    To get unique observations in the loaded pandas DataFrame column\n",
    "    :param dataset:\n",
    "    :param header:\n",
    "    :param method: Method to perform the unique (default method=1 for pandas and method=0 for numpy )\n",
    "    :return:\n",
    "    \"\"\"\n",
    "    try:\n",
    "        if method == 0:\n",
    "            # With Numpy\n",
    "            observations = np.unique(dataset[[header]])\n",
    "        elif method == 1:\n",
    "            # With Pandas\n",
    "            observations = pd.unique(dataset[header].values.ravel())\n",
    "        else:\n",
    "            observations = None\n",
    "            print \"Wrong method type, Use 1 for pandas and 0 for numpy\"\n",
    "    except Exception as e:\n",
    "        observations = None\n",
    "        print \"Error: {error_msg} /n Please check the inputs once..!\".format(error_msg=e.message)\n",
    "    return observations\n",
    "\n",
    "\n",
    "def feature_target_frequency_relation(dataset, f_t_headers):\n",
    "\n",
    "    \"\"\"\n",
    "    To get the frequency relation between targets and the unique feature observations\n",
    "    :param dataset:\n",
    "    :param f_t_headers: feature and target header\n",
    "    :return: feature unique observations dictionary of frequency count dictionary\n",
    "    \"\"\"\n",
    "\n",
    "    feature_unique_observations = unique_observations(dataset, f_t_headers[0])\n",
    "    unique_targets = unique_observations(dataset, f_t_headers[1])\n",
    "\n",
    "    frequencies = {}\n",
    "    for feature in feature_unique_observations:\n",
    "        frequencies[feature] = {unique_targets[0]: len(\n",
    "            dataset[(dataset[f_t_headers[0]] == feature) & (dataset[f_t_headers[1]] == unique_targets[0])]),\n",
    "            unique_targets[1]: len(\n",
    "                dataset[(dataset[f_t_headers[0]] == feature) & (dataset[f_t_headers[1]] == unique_targets[1])])}\n",
    "    return frequencies"
   ]
  },
  {
   "cell_type": "code",
   "execution_count": 8,
   "metadata": {
    "collapsed": false
   },
   "outputs": [
    {
     "name": "stdout",
     "output_type": "stream",
     "text": [
      "Number of Obs :: 944\n",
      "train_x size ::  (660, 5)\n",
      "train_y size ::  (660L,)\n",
      "test_x size ::  (284, 5)\n",
      "test_y size ::  (284L,)\n",
      "['TVnews', 'PID', 'age', 'educ', 'income']\n",
      "edu_target_frequencies ::  {0: {0: 94, 1: 67}, 1: {0: 54, 1: 46}, 2: {0: 59, 1: 53}, 3: {0: 70, 1: 31}, 4: {0: 37, 1: 29}, 5: {0: 52, 1: 32}, 6: {0: 13, 1: 19}, 7: {0: 172, 1: 116}}\n",
      "Train Accuracy ::  0.895454545455\n",
      "Test Accuracy ::  0.926056338028\n"
     ]
    }
   ],
   "source": [
    "DATA_SET_PATH=\"anes_dataset.csv\"\n",
    "\n",
    "def dataset_headers(dataset):\n",
    "    return list(dataset.columns.values)\n",
    "\n",
    "def train_logistic_regression(train_x,train_y):\n",
    "    logistic_regression_model = LogisticRegression()\n",
    "    logistic_regression_model.fit(train_x,train_y)\n",
    "    return logistic_regression_model\n",
    "\n",
    "def model_accuracy(trained_model, features, targets):\n",
    "    \"\"\"\n",
    "    Get the accuracy score of the model\n",
    "    :param trained_model:\n",
    "    :param features:\n",
    "    :param targets:\n",
    "    :return:\n",
    "    \"\"\"\n",
    "    accuracy_score = trained_model.score(features, targets)\n",
    "    return accuracy_score\n",
    " \n",
    "\n",
    "def main():\n",
    "    dataset=pd.read_csv(DATA_SET_PATH)\n",
    "    \n",
    "    \n",
    "    print \"Number of Obs ::\",len(dataset)\n",
    "    \n",
    "    training_features = ['TVnews','PID','age','educ','income']\n",
    "    target = 'vote'\n",
    "    \n",
    "    train_x,test_x,train_y,test_y = train_test_split(dataset[training_features],dataset[target],train_size=0.7)\n",
    "    print \"train_x size :: \", train_x.shape\n",
    "    print \"train_y size :: \", train_y.shape\n",
    " \n",
    "    print \"test_x size :: \", test_x.shape\n",
    "    print \"test_y size :: \", test_y.shape\n",
    "    \n",
    "    headers=dataset_headers(dataset)\n",
    "    print training_features\n",
    "    \n",
    "    print \"edu_target_frequencies :: \", feature_target_frequency_relation(dataset, [training_features[0], target])\n",
    "    \n",
    "    trained_logistic_regression_model = train_logistic_regression(train_x, train_y)\n",
    "    \n",
    " \n",
    "    train_accuracy = model_accuracy(trained_logistic_regression_model, train_x, train_y)\n",
    "    \n",
    "    test_accuracy = model_accuracy(trained_logistic_regression_model,test_x,test_y)\n",
    "    \n",
    "    print \"Train Accuracy :: \", train_accuracy\n",
    "    print \"Test Accuracy :: \", test_accuracy\n",
    "\n",
    "if __name__ == \"__main__\":\n",
    "    main()"
   ]
  },
  {
   "cell_type": "code",
   "execution_count": null,
   "metadata": {
    "collapsed": true
   },
   "outputs": [],
   "source": []
  }
 ],
 "metadata": {
  "kernelspec": {
   "display_name": "Python 2",
   "language": "python",
   "name": "python2"
  },
  "language_info": {
   "codemirror_mode": {
    "name": "ipython",
    "version": 2
   },
   "file_extension": ".py",
   "mimetype": "text/x-python",
   "name": "python",
   "nbconvert_exporter": "python",
   "pygments_lexer": "ipython2",
   "version": "2.7.13"
  }
 },
 "nbformat": 4,
 "nbformat_minor": 2
}
